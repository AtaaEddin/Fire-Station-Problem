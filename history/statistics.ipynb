{
 "cells": [
  {
   "cell_type": "code",
   "execution_count": 1,
   "metadata": {},
   "outputs": [],
   "source": [
    "import pandas as pd"
   ]
  },
  {
   "cell_type": "code",
   "execution_count": 58,
   "metadata": {},
   "outputs": [],
   "source": [
    "df = pd.read_csv(\"./junior_1_senior_1_manager_2_director_2.csv\")"
   ]
  },
  {
   "cell_type": "code",
   "execution_count": 59,
   "metadata": {},
   "outputs": [],
   "source": [
    "df[\"postion\"] = df[\"handler\"].apply(lambda arr: arr.replace(\"'\",'').replace(\"]\",'').split(',')[2])"
   ]
  },
  {
   "cell_type": "code",
   "execution_count": 60,
   "metadata": {},
   "outputs": [
    {
     "data": {
      "text/html": [
       "<div>\n",
       "<style scoped>\n",
       "    .dataframe tbody tr th:only-of-type {\n",
       "        vertical-align: middle;\n",
       "    }\n",
       "\n",
       "    .dataframe tbody tr th {\n",
       "        vertical-align: top;\n",
       "    }\n",
       "\n",
       "    .dataframe thead th {\n",
       "        text-align: right;\n",
       "    }\n",
       "</style>\n",
       "<table border=\"1\" class=\"dataframe\">\n",
       "  <thead>\n",
       "    <tr style=\"text-align: right;\">\n",
       "      <th></th>\n",
       "      <th>priority</th>\n",
       "      <th>caller</th>\n",
       "      <th>call_time</th>\n",
       "      <th>status</th>\n",
       "      <th>handler</th>\n",
       "      <th>handle_time</th>\n",
       "      <th>postion</th>\n",
       "    </tr>\n",
       "  </thead>\n",
       "  <tbody>\n",
       "    <tr>\n",
       "      <th>0</th>\n",
       "      <td>low</td>\n",
       "      <td>[79, 'Lennard']</td>\n",
       "      <td>2019-05-27 22:44:42.744796</td>\n",
       "      <td>deallocated</td>\n",
       "      <td>[1, 'Rosaline', 'junior']</td>\n",
       "      <td>2019-05-27 22:44:44.782217</td>\n",
       "      <td>junior</td>\n",
       "    </tr>\n",
       "    <tr>\n",
       "      <th>1</th>\n",
       "      <td>high</td>\n",
       "      <td>[17, 'Marybelle']</td>\n",
       "      <td>2019-05-27 22:44:42.970015</td>\n",
       "      <td>deallocated</td>\n",
       "      <td>[3, 'Elsi', 'manager']</td>\n",
       "      <td>2019-05-27 22:44:44.982746</td>\n",
       "      <td>manager</td>\n",
       "    </tr>\n",
       "    <tr>\n",
       "      <th>2</th>\n",
       "      <td>low</td>\n",
       "      <td>[32, 'Ned']</td>\n",
       "      <td>2019-05-27 22:44:43.901254</td>\n",
       "      <td>deallocated</td>\n",
       "      <td>[2, 'Twyla', 'senior']</td>\n",
       "      <td>2019-05-27 22:44:45.985611</td>\n",
       "      <td>senior</td>\n",
       "    </tr>\n",
       "    <tr>\n",
       "      <th>3</th>\n",
       "      <td>high</td>\n",
       "      <td>[68, 'Lucretia']</td>\n",
       "      <td>2019-05-27 22:44:45.357208</td>\n",
       "      <td>deallocated</td>\n",
       "      <td>[3, 'Elsi', 'manager']</td>\n",
       "      <td>2019-05-27 22:44:47.397083</td>\n",
       "      <td>manager</td>\n",
       "    </tr>\n",
       "    <tr>\n",
       "      <th>4</th>\n",
       "      <td>high</td>\n",
       "      <td>[44, 'Mariann']</td>\n",
       "      <td>2019-05-27 22:44:46.124517</td>\n",
       "      <td>deallocated</td>\n",
       "      <td>[5, 'Beatriz', 'director']</td>\n",
       "      <td>2019-05-27 22:44:48.204805</td>\n",
       "      <td>director</td>\n",
       "    </tr>\n",
       "  </tbody>\n",
       "</table>\n",
       "</div>"
      ],
      "text/plain": [
       "  priority             caller                   call_time       status  \\\n",
       "0      low    [79, 'Lennard']  2019-05-27 22:44:42.744796  deallocated   \n",
       "1     high  [17, 'Marybelle']  2019-05-27 22:44:42.970015  deallocated   \n",
       "2      low        [32, 'Ned']  2019-05-27 22:44:43.901254  deallocated   \n",
       "3     high   [68, 'Lucretia']  2019-05-27 22:44:45.357208  deallocated   \n",
       "4     high    [44, 'Mariann']  2019-05-27 22:44:46.124517  deallocated   \n",
       "\n",
       "                      handler                 handle_time    postion  \n",
       "0   [1, 'Rosaline', 'junior']  2019-05-27 22:44:44.782217     junior  \n",
       "1      [3, 'Elsi', 'manager']  2019-05-27 22:44:44.982746    manager  \n",
       "2      [2, 'Twyla', 'senior']  2019-05-27 22:44:45.985611     senior  \n",
       "3      [3, 'Elsi', 'manager']  2019-05-27 22:44:47.397083    manager  \n",
       "4  [5, 'Beatriz', 'director']  2019-05-27 22:44:48.204805   director  "
      ]
     },
     "execution_count": 60,
     "metadata": {},
     "output_type": "execute_result"
    }
   ],
   "source": [
    "df.head()"
   ]
  },
  {
   "cell_type": "code",
   "execution_count": 61,
   "metadata": {},
   "outputs": [],
   "source": [
    "results = df[[\"postion\",\"priority\",\"caller\"]].groupby([\"postion\",\"priority\"]).count()"
   ]
  },
  {
   "cell_type": "code",
   "execution_count": 56,
   "metadata": {},
   "outputs": [
    {
     "data": {
      "text/html": [
       "<div>\n",
       "<style scoped>\n",
       "    .dataframe tbody tr th:only-of-type {\n",
       "        vertical-align: middle;\n",
       "    }\n",
       "\n",
       "    .dataframe tbody tr th {\n",
       "        vertical-align: top;\n",
       "    }\n",
       "\n",
       "    .dataframe thead th {\n",
       "        text-align: right;\n",
       "    }\n",
       "</style>\n",
       "<table border=\"1\" class=\"dataframe\">\n",
       "  <thead>\n",
       "    <tr style=\"text-align: right;\">\n",
       "      <th></th>\n",
       "      <th></th>\n",
       "      <th>caller</th>\n",
       "    </tr>\n",
       "    <tr>\n",
       "      <th>postion</th>\n",
       "      <th>priority</th>\n",
       "      <th></th>\n",
       "    </tr>\n",
       "  </thead>\n",
       "  <tbody>\n",
       "    <tr>\n",
       "      <th>director</th>\n",
       "      <th>high</th>\n",
       "      <td>4</td>\n",
       "    </tr>\n",
       "    <tr>\n",
       "      <th>junior</th>\n",
       "      <th>low</th>\n",
       "      <td>11</td>\n",
       "    </tr>\n",
       "    <tr>\n",
       "      <th rowspan=\"2\" valign=\"top\">manager</th>\n",
       "      <th>high</th>\n",
       "      <td>9</td>\n",
       "    </tr>\n",
       "    <tr>\n",
       "      <th>low</th>\n",
       "      <td>10</td>\n",
       "    </tr>\n",
       "    <tr>\n",
       "      <th>senior</th>\n",
       "      <th>low</th>\n",
       "      <td>10</td>\n",
       "    </tr>\n",
       "  </tbody>\n",
       "</table>\n",
       "</div>"
      ],
      "text/plain": [
       "                    caller\n",
       "postion   priority        \n",
       " director high           4\n",
       " junior   low           11\n",
       " manager  high           9\n",
       "          low           10\n",
       " senior   low           10"
      ]
     },
     "execution_count": 56,
     "metadata": {},
     "output_type": "execute_result"
    }
   ],
   "source": []
  },
  {
   "cell_type": "code",
   "execution_count": null,
   "metadata": {},
   "outputs": [],
   "source": [
    "\"\"\"\n",
    "from the result above we conclude that managers were under pressure because they were\n",
    " handling low-priority and high-priority calls and the lack of juniors and seniors was a huge\n",
    " affeccts\n",
    "\n",
    "\"\"\""
   ]
  },
  {
   "cell_type": "code",
   "execution_count": 62,
   "metadata": {},
   "outputs": [
    {
     "data": {
      "text/html": [
       "<div>\n",
       "<style scoped>\n",
       "    .dataframe tbody tr th:only-of-type {\n",
       "        vertical-align: middle;\n",
       "    }\n",
       "\n",
       "    .dataframe tbody tr th {\n",
       "        vertical-align: top;\n",
       "    }\n",
       "\n",
       "    .dataframe thead th {\n",
       "        text-align: right;\n",
       "    }\n",
       "</style>\n",
       "<table border=\"1\" class=\"dataframe\">\n",
       "  <thead>\n",
       "    <tr style=\"text-align: right;\">\n",
       "      <th></th>\n",
       "      <th></th>\n",
       "      <th>caller</th>\n",
       "    </tr>\n",
       "    <tr>\n",
       "      <th>postion</th>\n",
       "      <th>priority</th>\n",
       "      <th></th>\n",
       "    </tr>\n",
       "  </thead>\n",
       "  <tbody>\n",
       "    <tr>\n",
       "      <th>director</th>\n",
       "      <th>high</th>\n",
       "      <td>4</td>\n",
       "    </tr>\n",
       "    <tr>\n",
       "      <th>junior</th>\n",
       "      <th>low</th>\n",
       "      <td>11</td>\n",
       "    </tr>\n",
       "    <tr>\n",
       "      <th rowspan=\"2\" valign=\"top\">manager</th>\n",
       "      <th>high</th>\n",
       "      <td>9</td>\n",
       "    </tr>\n",
       "    <tr>\n",
       "      <th>low</th>\n",
       "      <td>10</td>\n",
       "    </tr>\n",
       "    <tr>\n",
       "      <th>senior</th>\n",
       "      <th>low</th>\n",
       "      <td>10</td>\n",
       "    </tr>\n",
       "  </tbody>\n",
       "</table>\n",
       "</div>"
      ],
      "text/plain": [
       "                    caller\n",
       "postion   priority        \n",
       " director high           4\n",
       " junior   low           11\n",
       " manager  high           9\n",
       "          low           10\n",
       " senior   low           10"
      ]
     },
     "execution_count": 62,
     "metadata": {},
     "output_type": "execute_result"
    }
   ],
   "source": [
    "results"
   ]
  },
  {
   "cell_type": "code",
   "execution_count": 63,
   "metadata": {},
   "outputs": [],
   "source": [
    "df = pd.read_csv(\"./junior_10_senior_5_manager_3_director_1.csv\")"
   ]
  },
  {
   "cell_type": "code",
   "execution_count": 64,
   "metadata": {},
   "outputs": [],
   "source": [
    "df[\"postion\"] = df[\"handler\"].apply(lambda arr: arr.replace(\"'\",'').replace(\"]\",'').split(',')[2])"
   ]
  },
  {
   "cell_type": "code",
   "execution_count": 65,
   "metadata": {},
   "outputs": [
    {
     "data": {
      "text/html": [
       "<div>\n",
       "<style scoped>\n",
       "    .dataframe tbody tr th:only-of-type {\n",
       "        vertical-align: middle;\n",
       "    }\n",
       "\n",
       "    .dataframe tbody tr th {\n",
       "        vertical-align: top;\n",
       "    }\n",
       "\n",
       "    .dataframe thead th {\n",
       "        text-align: right;\n",
       "    }\n",
       "</style>\n",
       "<table border=\"1\" class=\"dataframe\">\n",
       "  <thead>\n",
       "    <tr style=\"text-align: right;\">\n",
       "      <th></th>\n",
       "      <th>priority</th>\n",
       "      <th>caller</th>\n",
       "      <th>call_time</th>\n",
       "      <th>status</th>\n",
       "      <th>handler</th>\n",
       "      <th>handle_time</th>\n",
       "      <th>postion</th>\n",
       "    </tr>\n",
       "  </thead>\n",
       "  <tbody>\n",
       "    <tr>\n",
       "      <th>0</th>\n",
       "      <td>low</td>\n",
       "      <td>[77, 'Garald']</td>\n",
       "      <td>2019-05-27 22:53:00.103945</td>\n",
       "      <td>deallocated</td>\n",
       "      <td>[1, 'Rosaline', 'junior']</td>\n",
       "      <td>2019-05-27 22:53:02.134233</td>\n",
       "      <td>junior</td>\n",
       "    </tr>\n",
       "    <tr>\n",
       "      <th>1</th>\n",
       "      <td>low</td>\n",
       "      <td>[46, 'Sampson']</td>\n",
       "      <td>2019-05-27 22:53:01.250394</td>\n",
       "      <td>deallocated</td>\n",
       "      <td>[2, 'Twyla', 'junior']</td>\n",
       "      <td>2019-05-27 22:53:03.335935</td>\n",
       "      <td>junior</td>\n",
       "    </tr>\n",
       "    <tr>\n",
       "      <th>2</th>\n",
       "      <td>high</td>\n",
       "      <td>[44, 'Mariann']</td>\n",
       "      <td>2019-05-27 22:53:02.182649</td>\n",
       "      <td>deallocated</td>\n",
       "      <td>[16, 'Kyrstin', 'manager']</td>\n",
       "      <td>2019-05-27 22:53:04.243237</td>\n",
       "      <td>manager</td>\n",
       "    </tr>\n",
       "    <tr>\n",
       "      <th>3</th>\n",
       "      <td>high</td>\n",
       "      <td>[62, 'Sergei']</td>\n",
       "      <td>2019-05-27 22:53:02.462152</td>\n",
       "      <td>deallocated</td>\n",
       "      <td>[17, 'Emmott', 'manager']</td>\n",
       "      <td>2019-05-27 22:53:04.546896</td>\n",
       "      <td>manager</td>\n",
       "    </tr>\n",
       "    <tr>\n",
       "      <th>4</th>\n",
       "      <td>low</td>\n",
       "      <td>[92, 'Hamid']</td>\n",
       "      <td>2019-05-27 22:53:03.547727</td>\n",
       "      <td>deallocated</td>\n",
       "      <td>[1, 'Rosaline', 'junior']</td>\n",
       "      <td>2019-05-27 22:53:05.554478</td>\n",
       "      <td>junior</td>\n",
       "    </tr>\n",
       "  </tbody>\n",
       "</table>\n",
       "</div>"
      ],
      "text/plain": [
       "  priority           caller                   call_time       status  \\\n",
       "0      low   [77, 'Garald']  2019-05-27 22:53:00.103945  deallocated   \n",
       "1      low  [46, 'Sampson']  2019-05-27 22:53:01.250394  deallocated   \n",
       "2     high  [44, 'Mariann']  2019-05-27 22:53:02.182649  deallocated   \n",
       "3     high   [62, 'Sergei']  2019-05-27 22:53:02.462152  deallocated   \n",
       "4      low    [92, 'Hamid']  2019-05-27 22:53:03.547727  deallocated   \n",
       "\n",
       "                      handler                 handle_time   postion  \n",
       "0   [1, 'Rosaline', 'junior']  2019-05-27 22:53:02.134233    junior  \n",
       "1      [2, 'Twyla', 'junior']  2019-05-27 22:53:03.335935    junior  \n",
       "2  [16, 'Kyrstin', 'manager']  2019-05-27 22:53:04.243237   manager  \n",
       "3   [17, 'Emmott', 'manager']  2019-05-27 22:53:04.546896   manager  \n",
       "4   [1, 'Rosaline', 'junior']  2019-05-27 22:53:05.554478    junior  "
      ]
     },
     "execution_count": 65,
     "metadata": {},
     "output_type": "execute_result"
    }
   ],
   "source": [
    "df.head()"
   ]
  },
  {
   "cell_type": "code",
   "execution_count": 66,
   "metadata": {},
   "outputs": [],
   "source": [
    "results = df[[\"postion\",\"priority\",\"caller\"]].groupby([\"postion\",\"priority\"]).count()"
   ]
  },
  {
   "cell_type": "code",
   "execution_count": 67,
   "metadata": {},
   "outputs": [
    {
     "data": {
      "text/html": [
       "<div>\n",
       "<style scoped>\n",
       "    .dataframe tbody tr th:only-of-type {\n",
       "        vertical-align: middle;\n",
       "    }\n",
       "\n",
       "    .dataframe tbody tr th {\n",
       "        vertical-align: top;\n",
       "    }\n",
       "\n",
       "    .dataframe thead th {\n",
       "        text-align: right;\n",
       "    }\n",
       "</style>\n",
       "<table border=\"1\" class=\"dataframe\">\n",
       "  <thead>\n",
       "    <tr style=\"text-align: right;\">\n",
       "      <th></th>\n",
       "      <th></th>\n",
       "      <th>caller</th>\n",
       "    </tr>\n",
       "    <tr>\n",
       "      <th>postion</th>\n",
       "      <th>priority</th>\n",
       "      <th></th>\n",
       "    </tr>\n",
       "  </thead>\n",
       "  <tbody>\n",
       "    <tr>\n",
       "      <th>director</th>\n",
       "      <th>high</th>\n",
       "      <td>2</td>\n",
       "    </tr>\n",
       "    <tr>\n",
       "      <th>junior</th>\n",
       "      <th>low</th>\n",
       "      <td>33</td>\n",
       "    </tr>\n",
       "    <tr>\n",
       "      <th>manager</th>\n",
       "      <th>high</th>\n",
       "      <td>27</td>\n",
       "    </tr>\n",
       "  </tbody>\n",
       "</table>\n",
       "</div>"
      ],
      "text/plain": [
       "                    caller\n",
       "postion   priority        \n",
       " director high           2\n",
       " junior   low           33\n",
       " manager  high          27"
      ]
     },
     "execution_count": 67,
     "metadata": {},
     "output_type": "execute_result"
    }
   ],
   "source": [
    "results"
   ]
  },
  {
   "cell_type": "code",
   "execution_count": null,
   "metadata": {},
   "outputs": [],
   "source": [
    "\"\"\"\n",
    "    after assigning 10 juniors, they were able to manage all the low-priority calls by themselves\n",
    "    :D\n",
    "\"\"\""
   ]
  }
 ],
 "metadata": {
  "kernelspec": {
   "display_name": "Python 3",
   "language": "python",
   "name": "python3"
  },
  "language_info": {
   "codemirror_mode": {
    "name": "ipython",
    "version": 3
   },
   "file_extension": ".py",
   "mimetype": "text/x-python",
   "name": "python",
   "nbconvert_exporter": "python",
   "pygments_lexer": "ipython3",
   "version": "3.6.7"
  }
 },
 "nbformat": 4,
 "nbformat_minor": 2
}
